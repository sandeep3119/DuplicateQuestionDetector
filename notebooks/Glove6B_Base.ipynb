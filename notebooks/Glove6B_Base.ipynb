{
  "nbformat": 4,
  "nbformat_minor": 0,
  "metadata": {
    "colab": {
      "name": "Glove6B-Base.ipynb",
      "provenance": [],
      "collapsed_sections": []
    },
    "kernelspec": {
      "name": "python3",
      "display_name": "Python 3"
    },
    "language_info": {
      "name": "python"
    },
    "accelerator": "GPU"
  },
  "cells": [
    {
      "cell_type": "code",
      "execution_count": 1,
      "metadata": {
        "id": "OPtcXRRl4sV3"
      },
      "outputs": [],
      "source": [
        "import pandas as pd\n",
        "import numpy as np\n",
        "import matplotlib.pyplot as plt"
      ]
    },
    {
      "cell_type": "code",
      "source": [
        "from keras.preprocessing.text import Tokenizer\n",
        "from keras.preprocessing.sequence import pad_sequences"
      ],
      "metadata": {
        "id": "NTS95XfM7Cdd"
      },
      "execution_count": 2,
      "outputs": []
    },
    {
      "cell_type": "code",
      "source": [
        "import tensorflow as tf\n",
        "from tensorflow import keras\n",
        "from tensorflow.keras import Sequential\n",
        "from keras.layers import Embedding,LSTM,Dense,GlobalMaxPooling1D\n",
        "from tensorflow.keras.callbacks import EarlyStopping,ModelCheckpoint"
      ],
      "metadata": {
        "id": "mY_mEv0SD9Sc"
      },
      "execution_count": 3,
      "outputs": []
    },
    {
      "cell_type": "markdown",
      "source": [
        "Text Similarity"
      ],
      "metadata": {
        "id": "21EAgb6pK_KK"
      }
    },
    {
      "cell_type": "code",
      "source": [
        "df=pd.read_csv('/content/drive/MyDrive/DuplicateQuestions/train.csv')"
      ],
      "metadata": {
        "id": "JOeeZ9LCFrqD"
      },
      "execution_count": 4,
      "outputs": []
    },
    {
      "cell_type": "code",
      "source": [
        "df.dropna(inplace=True,axis=0)"
      ],
      "metadata": {
        "id": "k4PvmRs3LBDW"
      },
      "execution_count": 5,
      "outputs": []
    },
    {
      "cell_type": "code",
      "source": [
        "# df=df.sample(50000,random_state=42)\n",
        "df"
      ],
      "metadata": {
        "colab": {
          "base_uri": "https://localhost:8080/",
          "height": 424
        },
        "id": "eE8eudgqLE7z",
        "outputId": "aeef117d-f44b-4851-fdfd-7e8da1657f00"
      },
      "execution_count": 6,
      "outputs": [
        {
          "output_type": "execute_result",
          "data": {
            "text/plain": [
              "            id    qid1    qid2  \\\n",
              "0            0       1       2   \n",
              "1            1       3       4   \n",
              "2            2       5       6   \n",
              "3            3       7       8   \n",
              "4            4       9      10   \n",
              "...        ...     ...     ...   \n",
              "404285  404285  433578  379845   \n",
              "404286  404286   18840  155606   \n",
              "404287  404287  537928  537929   \n",
              "404288  404288  537930  537931   \n",
              "404289  404289  537932  537933   \n",
              "\n",
              "                                                question1  \\\n",
              "0       What is the step by step guide to invest in sh...   \n",
              "1       What is the story of Kohinoor (Koh-i-Noor) Dia...   \n",
              "2       How can I increase the speed of my internet co...   \n",
              "3       Why am I mentally very lonely? How can I solve...   \n",
              "4       Which one dissolve in water quikly sugar, salt...   \n",
              "...                                                   ...   \n",
              "404285  How many keywords are there in the Racket prog...   \n",
              "404286          Do you believe there is life after death?   \n",
              "404287                                  What is one coin?   \n",
              "404288  What is the approx annual cost of living while...   \n",
              "404289              What is like to have sex with cousin?   \n",
              "\n",
              "                                                question2  is_duplicate  \n",
              "0       What is the step by step guide to invest in sh...             0  \n",
              "1       What would happen if the Indian government sto...             0  \n",
              "2       How can Internet speed be increased by hacking...             0  \n",
              "3       Find the remainder when [math]23^{24}[/math] i...             0  \n",
              "4                 Which fish would survive in salt water?             0  \n",
              "...                                                   ...           ...  \n",
              "404285  How many keywords are there in PERL Programmin...             0  \n",
              "404286         Is it true that there is life after death?             1  \n",
              "404287                                  What's this coin?             0  \n",
              "404288  I am having little hairfall problem but I want...             0  \n",
              "404289      What is it like to have sex with your cousin?             0  \n",
              "\n",
              "[404287 rows x 6 columns]"
            ],
            "text/html": [
              "\n",
              "  <div id=\"df-748f2a70-1a4b-4154-bf1c-5fcdcd600b89\">\n",
              "    <div class=\"colab-df-container\">\n",
              "      <div>\n",
              "<style scoped>\n",
              "    .dataframe tbody tr th:only-of-type {\n",
              "        vertical-align: middle;\n",
              "    }\n",
              "\n",
              "    .dataframe tbody tr th {\n",
              "        vertical-align: top;\n",
              "    }\n",
              "\n",
              "    .dataframe thead th {\n",
              "        text-align: right;\n",
              "    }\n",
              "</style>\n",
              "<table border=\"1\" class=\"dataframe\">\n",
              "  <thead>\n",
              "    <tr style=\"text-align: right;\">\n",
              "      <th></th>\n",
              "      <th>id</th>\n",
              "      <th>qid1</th>\n",
              "      <th>qid2</th>\n",
              "      <th>question1</th>\n",
              "      <th>question2</th>\n",
              "      <th>is_duplicate</th>\n",
              "    </tr>\n",
              "  </thead>\n",
              "  <tbody>\n",
              "    <tr>\n",
              "      <th>0</th>\n",
              "      <td>0</td>\n",
              "      <td>1</td>\n",
              "      <td>2</td>\n",
              "      <td>What is the step by step guide to invest in sh...</td>\n",
              "      <td>What is the step by step guide to invest in sh...</td>\n",
              "      <td>0</td>\n",
              "    </tr>\n",
              "    <tr>\n",
              "      <th>1</th>\n",
              "      <td>1</td>\n",
              "      <td>3</td>\n",
              "      <td>4</td>\n",
              "      <td>What is the story of Kohinoor (Koh-i-Noor) Dia...</td>\n",
              "      <td>What would happen if the Indian government sto...</td>\n",
              "      <td>0</td>\n",
              "    </tr>\n",
              "    <tr>\n",
              "      <th>2</th>\n",
              "      <td>2</td>\n",
              "      <td>5</td>\n",
              "      <td>6</td>\n",
              "      <td>How can I increase the speed of my internet co...</td>\n",
              "      <td>How can Internet speed be increased by hacking...</td>\n",
              "      <td>0</td>\n",
              "    </tr>\n",
              "    <tr>\n",
              "      <th>3</th>\n",
              "      <td>3</td>\n",
              "      <td>7</td>\n",
              "      <td>8</td>\n",
              "      <td>Why am I mentally very lonely? How can I solve...</td>\n",
              "      <td>Find the remainder when [math]23^{24}[/math] i...</td>\n",
              "      <td>0</td>\n",
              "    </tr>\n",
              "    <tr>\n",
              "      <th>4</th>\n",
              "      <td>4</td>\n",
              "      <td>9</td>\n",
              "      <td>10</td>\n",
              "      <td>Which one dissolve in water quikly sugar, salt...</td>\n",
              "      <td>Which fish would survive in salt water?</td>\n",
              "      <td>0</td>\n",
              "    </tr>\n",
              "    <tr>\n",
              "      <th>...</th>\n",
              "      <td>...</td>\n",
              "      <td>...</td>\n",
              "      <td>...</td>\n",
              "      <td>...</td>\n",
              "      <td>...</td>\n",
              "      <td>...</td>\n",
              "    </tr>\n",
              "    <tr>\n",
              "      <th>404285</th>\n",
              "      <td>404285</td>\n",
              "      <td>433578</td>\n",
              "      <td>379845</td>\n",
              "      <td>How many keywords are there in the Racket prog...</td>\n",
              "      <td>How many keywords are there in PERL Programmin...</td>\n",
              "      <td>0</td>\n",
              "    </tr>\n",
              "    <tr>\n",
              "      <th>404286</th>\n",
              "      <td>404286</td>\n",
              "      <td>18840</td>\n",
              "      <td>155606</td>\n",
              "      <td>Do you believe there is life after death?</td>\n",
              "      <td>Is it true that there is life after death?</td>\n",
              "      <td>1</td>\n",
              "    </tr>\n",
              "    <tr>\n",
              "      <th>404287</th>\n",
              "      <td>404287</td>\n",
              "      <td>537928</td>\n",
              "      <td>537929</td>\n",
              "      <td>What is one coin?</td>\n",
              "      <td>What's this coin?</td>\n",
              "      <td>0</td>\n",
              "    </tr>\n",
              "    <tr>\n",
              "      <th>404288</th>\n",
              "      <td>404288</td>\n",
              "      <td>537930</td>\n",
              "      <td>537931</td>\n",
              "      <td>What is the approx annual cost of living while...</td>\n",
              "      <td>I am having little hairfall problem but I want...</td>\n",
              "      <td>0</td>\n",
              "    </tr>\n",
              "    <tr>\n",
              "      <th>404289</th>\n",
              "      <td>404289</td>\n",
              "      <td>537932</td>\n",
              "      <td>537933</td>\n",
              "      <td>What is like to have sex with cousin?</td>\n",
              "      <td>What is it like to have sex with your cousin?</td>\n",
              "      <td>0</td>\n",
              "    </tr>\n",
              "  </tbody>\n",
              "</table>\n",
              "<p>404287 rows × 6 columns</p>\n",
              "</div>\n",
              "      <button class=\"colab-df-convert\" onclick=\"convertToInteractive('df-748f2a70-1a4b-4154-bf1c-5fcdcd600b89')\"\n",
              "              title=\"Convert this dataframe to an interactive table.\"\n",
              "              style=\"display:none;\">\n",
              "        \n",
              "  <svg xmlns=\"http://www.w3.org/2000/svg\" height=\"24px\"viewBox=\"0 0 24 24\"\n",
              "       width=\"24px\">\n",
              "    <path d=\"M0 0h24v24H0V0z\" fill=\"none\"/>\n",
              "    <path d=\"M18.56 5.44l.94 2.06.94-2.06 2.06-.94-2.06-.94-.94-2.06-.94 2.06-2.06.94zm-11 1L8.5 8.5l.94-2.06 2.06-.94-2.06-.94L8.5 2.5l-.94 2.06-2.06.94zm10 10l.94 2.06.94-2.06 2.06-.94-2.06-.94-.94-2.06-.94 2.06-2.06.94z\"/><path d=\"M17.41 7.96l-1.37-1.37c-.4-.4-.92-.59-1.43-.59-.52 0-1.04.2-1.43.59L10.3 9.45l-7.72 7.72c-.78.78-.78 2.05 0 2.83L4 21.41c.39.39.9.59 1.41.59.51 0 1.02-.2 1.41-.59l7.78-7.78 2.81-2.81c.8-.78.8-2.07 0-2.86zM5.41 20L4 18.59l7.72-7.72 1.47 1.35L5.41 20z\"/>\n",
              "  </svg>\n",
              "      </button>\n",
              "      \n",
              "  <style>\n",
              "    .colab-df-container {\n",
              "      display:flex;\n",
              "      flex-wrap:wrap;\n",
              "      gap: 12px;\n",
              "    }\n",
              "\n",
              "    .colab-df-convert {\n",
              "      background-color: #E8F0FE;\n",
              "      border: none;\n",
              "      border-radius: 50%;\n",
              "      cursor: pointer;\n",
              "      display: none;\n",
              "      fill: #1967D2;\n",
              "      height: 32px;\n",
              "      padding: 0 0 0 0;\n",
              "      width: 32px;\n",
              "    }\n",
              "\n",
              "    .colab-df-convert:hover {\n",
              "      background-color: #E2EBFA;\n",
              "      box-shadow: 0px 1px 2px rgba(60, 64, 67, 0.3), 0px 1px 3px 1px rgba(60, 64, 67, 0.15);\n",
              "      fill: #174EA6;\n",
              "    }\n",
              "\n",
              "    [theme=dark] .colab-df-convert {\n",
              "      background-color: #3B4455;\n",
              "      fill: #D2E3FC;\n",
              "    }\n",
              "\n",
              "    [theme=dark] .colab-df-convert:hover {\n",
              "      background-color: #434B5C;\n",
              "      box-shadow: 0px 1px 3px 1px rgba(0, 0, 0, 0.15);\n",
              "      filter: drop-shadow(0px 1px 2px rgba(0, 0, 0, 0.3));\n",
              "      fill: #FFFFFF;\n",
              "    }\n",
              "  </style>\n",
              "\n",
              "      <script>\n",
              "        const buttonEl =\n",
              "          document.querySelector('#df-748f2a70-1a4b-4154-bf1c-5fcdcd600b89 button.colab-df-convert');\n",
              "        buttonEl.style.display =\n",
              "          google.colab.kernel.accessAllowed ? 'block' : 'none';\n",
              "\n",
              "        async function convertToInteractive(key) {\n",
              "          const element = document.querySelector('#df-748f2a70-1a4b-4154-bf1c-5fcdcd600b89');\n",
              "          const dataTable =\n",
              "            await google.colab.kernel.invokeFunction('convertToInteractive',\n",
              "                                                     [key], {});\n",
              "          if (!dataTable) return;\n",
              "\n",
              "          const docLinkHtml = 'Like what you see? Visit the ' +\n",
              "            '<a target=\"_blank\" href=https://colab.research.google.com/notebooks/data_table.ipynb>data table notebook</a>'\n",
              "            + ' to learn more about interactive tables.';\n",
              "          element.innerHTML = '';\n",
              "          dataTable['output_type'] = 'display_data';\n",
              "          await google.colab.output.renderOutput(dataTable, element);\n",
              "          const docLink = document.createElement('div');\n",
              "          docLink.innerHTML = docLinkHtml;\n",
              "          element.appendChild(docLink);\n",
              "        }\n",
              "      </script>\n",
              "    </div>\n",
              "  </div>\n",
              "  "
            ]
          },
          "metadata": {},
          "execution_count": 6
        }
      ]
    },
    {
      "cell_type": "code",
      "source": [
        "df['text']=df['question1']+df['question2']"
      ],
      "metadata": {
        "id": "NuWRacklX9un"
      },
      "execution_count": 7,
      "outputs": []
    },
    {
      "cell_type": "code",
      "source": [
        "from sklearn.model_selection import train_test_split\n",
        "x_tr,x_val,y_tr,y_val = train_test_split(df.iloc[:,6:].values,df['is_duplicate'].values,test_size=0.3,random_state=1)"
      ],
      "metadata": {
        "id": "KpYIyhFvLG_V"
      },
      "execution_count": 8,
      "outputs": []
    },
    {
      "cell_type": "code",
      "source": [
        "x_tr"
      ],
      "metadata": {
        "colab": {
          "base_uri": "https://localhost:8080/"
        },
        "id": "5MfTS-VvY9Jz",
        "outputId": "b4f265a2-5efe-4646-e8ee-00e8001436ce"
      },
      "execution_count": 9,
      "outputs": [
        {
          "output_type": "execute_result",
          "data": {
            "text/plain": [
              "array([['Can you arrange DOHLAROAC to form a meaningful word?Who is the most important character for the whole life with one word? Where do you come form?'],\n",
              "       ['Who are the major contributors of air pollution in Delhi?What was the real cause of air pollution in Delhi?'],\n",
              "       ['What is an easy way make money online?What is best way to make money online?'],\n",
              "       ...,\n",
              "       ['What could be the reason for an extreme chest pain that happens like once every 2 months or more?What does right side chest pain indicate?'],\n",
              "       [\"Should I take coaching for SSB (for TGC entry)?I have joined a company 1 year back..I haven't got right project after training till now.. shall I quit And go for higher studies?\"],\n",
              "       [\"Is Run Ze Cao's falsification of Einstein's relativity valid?Why do Republican party supporters ask such loaded questions on Quora? Do they actually believe what they say or are they just being provocative?\"]],\n",
              "      dtype=object)"
            ]
          },
          "metadata": {},
          "execution_count": 9
        }
      ]
    },
    {
      "cell_type": "code",
      "source": [
        "tokenizer = Tokenizer()\n",
        "tokenizer.fit_on_texts(list(x_tr.flatten()))"
      ],
      "metadata": {
        "id": "pWwZ2wT8M0qr"
      },
      "execution_count": 10,
      "outputs": []
    },
    {
      "cell_type": "code",
      "source": [
        "x_tr_seq  = tokenizer.texts_to_sequences(x_tr.flatten()) \n",
        "x_val_seq = tokenizer.texts_to_sequences(x_val.flatten())"
      ],
      "metadata": {
        "id": "U8FxaxAaNlsU"
      },
      "execution_count": 11,
      "outputs": []
    },
    {
      "cell_type": "code",
      "source": [
        "x_tr_seq  = pad_sequences(x_tr_seq)\n",
        "x_val_seq = pad_sequences(x_val_seq)"
      ],
      "metadata": {
        "id": "Z9c7APPhOvMX"
      },
      "execution_count": 12,
      "outputs": []
    },
    {
      "cell_type": "code",
      "source": [
        "x_tr_seq[1].shape"
      ],
      "metadata": {
        "colab": {
          "base_uri": "https://localhost:8080/"
        },
        "id": "yzMRPWCHTs8f",
        "outputId": "04d3c3f0-86bf-4c65-d77c-8565708aadf7"
      },
      "execution_count": 13,
      "outputs": [
        {
          "output_type": "execute_result",
          "data": {
            "text/plain": [
              "(269,)"
            ]
          },
          "metadata": {},
          "execution_count": 13
        }
      ]
    },
    {
      "cell_type": "code",
      "source": [
        "size_of_vocabulary=len(tokenizer.word_index) + 1 #+1 for padding\n",
        "print(size_of_vocabulary)"
      ],
      "metadata": {
        "colab": {
          "base_uri": "https://localhost:8080/"
        },
        "id": "sIsQ1JLdPgX5",
        "outputId": "2f6ac14b-3433-48f7-cc9e-ef4c74a1ad4b"
      },
      "execution_count": 14,
      "outputs": [
        {
          "output_type": "stream",
          "name": "stdout",
          "text": [
            "81824\n"
          ]
        }
      ]
    },
    {
      "cell_type": "code",
      "source": [
        "print('Indexing word vectors.')\n",
        "\n",
        "embeddings_index = {}\n",
        "f = open('/content/drive/MyDrive/collab_data/Glove6B/Glove6B/glove.6B.300d.txt', encoding='utf-8')\n",
        "for line in f:\n",
        "    values = line.split()\n",
        "    word = values[0]\n",
        "    coefs = np.asarray(values[1:], dtype='float32')\n",
        "    embeddings_index[word] = coefs\n",
        "f.close()\n",
        "\n",
        "print('Found %s word vectors.' % len(embeddings_index))"
      ],
      "metadata": {
        "colab": {
          "base_uri": "https://localhost:8080/"
        },
        "id": "ys2HthMsQUYZ",
        "outputId": "b40485fb-d6d4-457c-bac4-ea336976cb72"
      },
      "execution_count": 15,
      "outputs": [
        {
          "output_type": "stream",
          "name": "stdout",
          "text": [
            "Indexing word vectors.\n",
            "Found 400000 word vectors.\n"
          ]
        }
      ]
    },
    {
      "cell_type": "code",
      "source": [
        "embedding_matrix = np.zeros((size_of_vocabulary, 300))\n",
        "\n",
        "for word, i in tokenizer.word_index.items():\n",
        "    embedding_vector = embeddings_index.get(word)\n",
        "    if embedding_vector is not None:\n",
        "        embedding_matrix[i] = embedding_vector"
      ],
      "metadata": {
        "id": "HRLQ7ZWbQLe8"
      },
      "execution_count": 16,
      "outputs": []
    },
    {
      "cell_type": "code",
      "source": [
        "model=Sequential()\n",
        "\n",
        "#embedding layer\n",
        "model.add(Embedding(size_of_vocabulary,300,weights=[embedding_matrix],trainable=False)) \n",
        "\n",
        "#lstm layer\n",
        "model.add(LSTM(64,return_sequences=False,dropout=0.2))\n",
        "\n",
        "#Global Maxpooling\n",
        "#model.add(GlobalMaxPooling1D())\n",
        "\n",
        "#Dense Layer\n",
        "model.add(Dense(32,activation='relu')) \n",
        "model.add(Dense(1,activation='sigmoid')) \n",
        "\n",
        "#Add loss function, metrics, optimizer\n",
        "model.compile(optimizer='adam', loss='binary_crossentropy',metrics=[\"acc\"]) \n",
        "\n",
        "#Adding callbacks\n",
        "es = EarlyStopping(monitor='val_loss', mode='min', verbose=1,patience=3)  \n",
        "mc=ModelCheckpoint('best_model.h5', monitor='val_acc', mode='max', save_best_only=True,verbose=1)  \n",
        "\n",
        "#Print summary of model\n",
        "print(model.summary())"
      ],
      "metadata": {
        "colab": {
          "base_uri": "https://localhost:8080/"
        },
        "id": "KPVQPn5_Pm4l",
        "outputId": "775cac16-f434-41c0-eaeb-ea99eb30acb9"
      },
      "execution_count": 17,
      "outputs": [
        {
          "output_type": "stream",
          "name": "stdout",
          "text": [
            "Model: \"sequential\"\n",
            "_________________________________________________________________\n",
            " Layer (type)                Output Shape              Param #   \n",
            "=================================================================\n",
            " embedding (Embedding)       (None, None, 300)         24547200  \n",
            "                                                                 \n",
            " lstm (LSTM)                 (None, 64)                93440     \n",
            "                                                                 \n",
            " dense (Dense)               (None, 32)                2080      \n",
            "                                                                 \n",
            " dense_1 (Dense)             (None, 1)                 33        \n",
            "                                                                 \n",
            "=================================================================\n",
            "Total params: 24,642,753\n",
            "Trainable params: 95,553\n",
            "Non-trainable params: 24,547,200\n",
            "_________________________________________________________________\n",
            "None\n"
          ]
        }
      ]
    },
    {
      "cell_type": "code",
      "source": [
        "history = model.fit(np.array(x_tr_seq),np.array(y_tr),batch_size=128,epochs=20,validation_data=(np.array(x_val_seq),np.array(y_val)),verbose=1,callbacks=[es,mc])"
      ],
      "metadata": {
        "colab": {
          "base_uri": "https://localhost:8080/"
        },
        "id": "ccsDrZbGP1yL",
        "outputId": "659d1055-7775-4afc-b046-12dad3c2a498"
      },
      "execution_count": 18,
      "outputs": [
        {
          "output_type": "stream",
          "name": "stdout",
          "text": [
            "Epoch 1/20\n",
            "2210/2211 [============================>.] - ETA: 0s - loss: 0.5395 - acc: 0.7248\n",
            "Epoch 1: val_acc improved from -inf to 0.74581, saving model to best_model.h5\n",
            "2211/2211 [==============================] - 132s 57ms/step - loss: 0.5395 - acc: 0.7247 - val_loss: 0.5112 - val_acc: 0.7458\n",
            "Epoch 2/20\n",
            "2210/2211 [============================>.] - ETA: 0s - loss: 0.4916 - acc: 0.7577\n",
            "Epoch 2: val_acc improved from 0.74581 to 0.76262, saving model to best_model.h5\n",
            "2211/2211 [==============================] - 125s 57ms/step - loss: 0.4915 - acc: 0.7577 - val_loss: 0.4844 - val_acc: 0.7626\n",
            "Epoch 3/20\n",
            "2211/2211 [==============================] - ETA: 0s - loss: 0.4645 - acc: 0.7746\n",
            "Epoch 3: val_acc improved from 0.76262 to 0.76767, saving model to best_model.h5\n",
            "2211/2211 [==============================] - 126s 57ms/step - loss: 0.4645 - acc: 0.7746 - val_loss: 0.4741 - val_acc: 0.7677\n",
            "Epoch 4/20\n",
            "2211/2211 [==============================] - ETA: 0s - loss: 0.4429 - acc: 0.7869\n",
            "Epoch 4: val_acc improved from 0.76767 to 0.77837, saving model to best_model.h5\n",
            "2211/2211 [==============================] - 125s 57ms/step - loss: 0.4429 - acc: 0.7869 - val_loss: 0.4592 - val_acc: 0.7784\n",
            "Epoch 5/20\n",
            "2210/2211 [============================>.] - ETA: 0s - loss: 0.4269 - acc: 0.7963\n",
            "Epoch 5: val_acc improved from 0.77837 to 0.77956, saving model to best_model.h5\n",
            "2211/2211 [==============================] - 126s 57ms/step - loss: 0.4268 - acc: 0.7963 - val_loss: 0.4530 - val_acc: 0.7796\n",
            "Epoch 6/20\n",
            "2211/2211 [==============================] - ETA: 0s - loss: 0.4142 - acc: 0.8038\n",
            "Epoch 6: val_acc improved from 0.77956 to 0.78486, saving model to best_model.h5\n",
            "2211/2211 [==============================] - 125s 56ms/step - loss: 0.4142 - acc: 0.8038 - val_loss: 0.4480 - val_acc: 0.7849\n",
            "Epoch 7/20\n",
            "2211/2211 [==============================] - ETA: 0s - loss: 0.4037 - acc: 0.8095\n",
            "Epoch 7: val_acc did not improve from 0.78486\n",
            "2211/2211 [==============================] - 125s 57ms/step - loss: 0.4037 - acc: 0.8095 - val_loss: 0.4490 - val_acc: 0.7836\n",
            "Epoch 8/20\n",
            "2210/2211 [============================>.] - ETA: 0s - loss: 0.3948 - acc: 0.8147\n",
            "Epoch 8: val_acc did not improve from 0.78486\n",
            "2211/2211 [==============================] - 128s 58ms/step - loss: 0.3948 - acc: 0.8147 - val_loss: 0.4478 - val_acc: 0.7839\n",
            "Epoch 9/20\n",
            "2210/2211 [============================>.] - ETA: 0s - loss: 0.3867 - acc: 0.8189\n",
            "Epoch 9: val_acc did not improve from 0.78486\n",
            "2211/2211 [==============================] - 134s 61ms/step - loss: 0.3867 - acc: 0.8189 - val_loss: 0.4523 - val_acc: 0.7824\n",
            "Epoch 10/20\n",
            "2211/2211 [==============================] - ETA: 0s - loss: 0.3805 - acc: 0.8220\n",
            "Epoch 10: val_acc improved from 0.78486 to 0.78610, saving model to best_model.h5\n",
            "2211/2211 [==============================] - 129s 58ms/step - loss: 0.3805 - acc: 0.8220 - val_loss: 0.4460 - val_acc: 0.7861\n",
            "Epoch 11/20\n",
            "2211/2211 [==============================] - ETA: 0s - loss: 0.3753 - acc: 0.8261\n",
            "Epoch 11: val_acc improved from 0.78610 to 0.78906, saving model to best_model.h5\n",
            "2211/2211 [==============================] - 128s 58ms/step - loss: 0.3753 - acc: 0.8261 - val_loss: 0.4455 - val_acc: 0.7891\n",
            "Epoch 12/20\n",
            "2211/2211 [==============================] - ETA: 0s - loss: 0.3706 - acc: 0.8284\n",
            "Epoch 12: val_acc did not improve from 0.78906\n",
            "2211/2211 [==============================] - 129s 58ms/step - loss: 0.3706 - acc: 0.8284 - val_loss: 0.4453 - val_acc: 0.7864\n",
            "Epoch 13/20\n",
            "2210/2211 [============================>.] - ETA: 0s - loss: 0.3663 - acc: 0.8302\n",
            "Epoch 13: val_acc improved from 0.78906 to 0.79285, saving model to best_model.h5\n",
            "2211/2211 [==============================] - 128s 58ms/step - loss: 0.3663 - acc: 0.8302 - val_loss: 0.4404 - val_acc: 0.7929\n",
            "Epoch 14/20\n",
            "2211/2211 [==============================] - ETA: 0s - loss: 0.3622 - acc: 0.8329\n",
            "Epoch 14: val_acc did not improve from 0.79285\n",
            "2211/2211 [==============================] - 128s 58ms/step - loss: 0.3622 - acc: 0.8329 - val_loss: 0.4453 - val_acc: 0.7886\n",
            "Epoch 15/20\n",
            "2211/2211 [==============================] - ETA: 0s - loss: 0.3599 - acc: 0.8333\n",
            "Epoch 15: val_acc did not improve from 0.79285\n",
            "2211/2211 [==============================] - 128s 58ms/step - loss: 0.3599 - acc: 0.8333 - val_loss: 0.4463 - val_acc: 0.7900\n",
            "Epoch 16/20\n",
            "2211/2211 [==============================] - ETA: 0s - loss: 0.3564 - acc: 0.8355\n",
            "Epoch 16: val_acc improved from 0.79285 to 0.79366, saving model to best_model.h5\n",
            "2211/2211 [==============================] - 128s 58ms/step - loss: 0.3564 - acc: 0.8355 - val_loss: 0.4431 - val_acc: 0.7937\n",
            "Epoch 16: early stopping\n"
          ]
        }
      ]
    },
    {
      "cell_type": "code",
      "source": [
        "cp /content/best_model.h5 /content/drive/MyDrive/collab_data"
      ],
      "metadata": {
        "id": "qvnfeyzJZaBs"
      },
      "execution_count": 19,
      "outputs": []
    },
    {
      "cell_type": "code",
      "source": [
        ""
      ],
      "metadata": {
        "id": "zih9cPI2nRcq"
      },
      "execution_count": 19,
      "outputs": []
    }
  ]
}